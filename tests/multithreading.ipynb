{
 "cells": [
  {
   "cell_type": "code",
   "execution_count": 1,
   "metadata": {},
   "outputs": [],
   "source": [
    "from threading import Thread\n",
    "from time import sleep\n",
    "from queue import Queue\n",
    "def countdown(i):\n",
    "    while i > 0:\n",
    "        print(i)\n",
    "        i-=1\n",
    "        sleep(1)"
   ]
  },
  {
   "cell_type": "code",
   "execution_count": 22,
   "metadata": {},
   "outputs": [
    {
     "name": "stdout",
     "output_type": "stream",
     "text": [
      "Drivers waiting for GREEN Signal\n",
      "Traffic Signal is RED...Drivers have to wait\n",
      "Drivers waiting for GREEN Signal\n",
      "Traffic Police Giving RED Signal\n"
     ]
    }
   ],
   "source": [
    "\n",
    "# j = 5\n",
    "# def recogniseGesture(id, output_queue):\n",
    "#     print(f'Recognising gesture from thread {id}')\n",
    "#     countdown(3)\n",
    "#     output_queue.put(\"fly\")\n",
    "#     print('---------done Recognising, sending to Drone-----------')\n",
    "\n",
    "# def flyDrone(q):\n",
    "#     data = q.get()\n",
    "#     print(f'Got the instruction {data}, flying now!')\n",
    "#     countdown(5)\n",
    "#     print('-------------Done Flying-------------')\n",
    "#     q.task_done()\n",
    "\n",
    "# q = Queue()\n",
    "# while j>0:\n",
    "#     t1 = Thread(target=recogniseGesture, args=(1,q))\n",
    "#     t2 = Thread(target=flyDrone, args=(q,))\n",
    "\n",
    "#     t1.start()\n",
    "#     t2.start()\n",
    "#     j-=1"
   ]
  },
  {
   "cell_type": "code",
   "execution_count": 2,
   "metadata": {},
   "outputs": [
    {
     "name": "stdout",
     "output_type": "stream",
     "text": [
      "Drivers waiting for GREEN Signal\n",
      "Traffic Police Giving GREEN Signal\n",
      "Traffic Signal is GREEN...Vehicles can move 1\n",
      "Vehicle No: 1  Crossing the Signal\n",
      "Vehicle No: 2  Crossing the Signal\n",
      "Vehicle No: 3  Crossing the Signal\n",
      "Vehicle No: 4  Crossing the Signal\n",
      "Vehicle No: 5  Crossing the Signal\n",
      "Traffic Police Giving RED Signal\n",
      "Traffic Signal is RED...Drivers have to wait\n",
      "Drivers waiting for GREEN Signal\n"
     ]
    }
   ],
   "source": [
    "\n",
    "from threading import *\n",
    "import time\n",
    "\n",
    "def traffic_police(output_queue):\n",
    "    i = 0\n",
    "    while True:\n",
    "        i+=1\n",
    "        time.sleep(5)\n",
    "        print(\"Traffic Police Giving GREEN Signal\")\n",
    "        output_queue.put(i)\n",
    "        event.set()\n",
    "        time.sleep(10)\n",
    "        print(\"Traffic Police Giving RED Signal\")\n",
    "        event.clear()\n",
    "\n",
    "def driver(input_queue):\n",
    "   num=0\n",
    "   while True:\n",
    "       print(\"Drivers waiting for GREEN Signal\")\n",
    "       event.wait()\n",
    "       value = input_queue.get()\n",
    "       print(f\"Traffic Signal is GREEN...Vehicles can move {value}\")\n",
    "       while event.isSet():\n",
    "           num=num+1\n",
    "           print(\"Vehicle No:\", num,\" Crossing the Signal\")\n",
    "           time.sleep(2)\n",
    "       print(\"Traffic Signal is RED...Drivers have to wait\")\n",
    "\n",
    "event=Event()\n",
    "q = Queue()\n",
    "t1=Thread(target=traffic_police, args=(q,))\n",
    "t2=Thread(target=driver, args=(q,))\n",
    "t1.start()\n",
    "t2.start()"
   ]
  },
  {
   "cell_type": "code",
   "execution_count": 4,
   "metadata": {},
   "outputs": [],
   "source": [
    "def func():\n",
    "    return [\"aaa\", 1]"
   ]
  },
  {
   "cell_type": "code",
   "execution_count": 5,
   "metadata": {},
   "outputs": [],
   "source": [
    "a,b = func()"
   ]
  },
  {
   "cell_type": "code",
   "execution_count": 7,
   "metadata": {},
   "outputs": [
    {
     "name": "stdout",
     "output_type": "stream",
     "text": [
      "aaa\n"
     ]
    }
   ],
   "source": [
    "print(a)"
   ]
  }
 ],
 "metadata": {
  "interpreter": {
   "hash": "e06a64db7df9401d79dd434f37d5b59a0e3deddcd12f4103fa3d32c1a8bbec8f"
  },
  "kernelspec": {
   "display_name": "Python 3.8.8 64-bit",
   "language": "python",
   "name": "python3"
  },
  "language_info": {
   "codemirror_mode": {
    "name": "ipython",
    "version": 3
   },
   "file_extension": ".py",
   "mimetype": "text/x-python",
   "name": "python",
   "nbconvert_exporter": "python",
   "pygments_lexer": "ipython3",
   "version": "3.8.8"
  },
  "orig_nbformat": 4
 },
 "nbformat": 4,
 "nbformat_minor": 2
}
