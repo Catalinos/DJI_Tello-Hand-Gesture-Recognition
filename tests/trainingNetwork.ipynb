{
 "cells": [
  {
   "cell_type": "markdown",
   "metadata": {},
   "source": [
    "# Classificators\n",
    "\n"
   ]
  },
  {
   "cell_type": "code",
   "execution_count": 2,
   "metadata": {},
   "outputs": [],
   "source": [
    "import numpy as np\n",
    "import pandas as pd\n",
    "import os\n",
    "import matplotlib.pyplot as plt\n",
    "from sklearn.metrics import accuracy_score\n",
    "from sklearn.metrics import classification_report\n",
    "from sklearn.metrics import confusion_matrix\n",
    "from sklearn.metrics import plot_confusion_matrix\n",
    "from sklearn.model_selection import train_test_split\n",
    "gestureNameList = [\"forward\", \"backward\", \"left\", \"right\", \"up\", \"down\", \"rotate left\", \"rotate right\", \"stop\", \"land\"]\n",
    "\n",
    "os.chdir(\"D:\\Git\\HandGestNotebook\\DJI_Tello-Hand-Gesture-Recognition\")"
   ]
  },
  {
   "cell_type": "code",
   "execution_count": 15,
   "metadata": {},
   "outputs": [
    {
     "data": {
      "text/plain": [
       "'backward'"
      ]
     },
     "execution_count": 15,
     "metadata": {},
     "output_type": "execute_result"
    }
   ],
   "source": [
    "gestureNameList[1]"
   ]
  },
  {
   "cell_type": "code",
   "execution_count": 3,
   "metadata": {},
   "outputs": [],
   "source": [
    "handDF = pd.read_pickle(\"OtherDataset.pickle\")\n",
    "handDF = handDF.dropna(axis='columns')\n",
    "handDF.isnull().sum().sum()\n",
    "handDF_cpy = handDF.copy()"
   ]
  },
  {
   "cell_type": "code",
   "execution_count": 4,
   "metadata": {},
   "outputs": [],
   "source": [
    "train,test = train_test_split(handDF_cpy,test_size = 0.2)"
   ]
  },
  {
   "cell_type": "code",
   "execution_count": 5,
   "metadata": {},
   "outputs": [],
   "source": [
    "X_train = pd.DataFrame()\n",
    "X_test = pd.DataFrame()\n",
    "y_train = train[\"IdGesture\"]\n",
    "y_test = test[\"IdGesture\"]\n",
    "for i in range (21):\n",
    "    X_train[str(i)+\"x\"] = train[str(i)+\"x\"]\n",
    "    X_train[str(i)+\"y\"] = train[str(i)+\"y\"]\n",
    "    X_test[str(i)+\"x\"] = test[str(i)+\"x\"]\n",
    "    X_test[str(i)+\"y\"] = test[str(i)+\"y\"]"
   ]
  },
  {
   "cell_type": "code",
   "execution_count": 6,
   "metadata": {},
   "outputs": [
    {
     "data": {
      "text/plain": [
       "DecisionTreeClassifier(random_state=0)"
      ]
     },
     "execution_count": 6,
     "metadata": {},
     "output_type": "execute_result"
    }
   ],
   "source": [
    "from sklearn.tree import DecisionTreeClassifier\n",
    "\n",
    "clf = DecisionTreeClassifier(random_state=0)\n",
    "\n",
    "clf.fit(X_test,y_test)\n"
   ]
  },
  {
   "cell_type": "code",
   "execution_count": 11,
   "metadata": {},
   "outputs": [
    {
     "name": "stdout",
     "output_type": "stream",
     "text": [
      "4\n",
      "3257    4\n",
      "Name: IdGesture, dtype: object\n",
      "[1.         1.25510204 1.3877551  1.36734694 1.20408163 1.35714286\n",
      " 1.41836735 1.44897959 1.46938776 1.15306122 1.14285714 1.14285714\n",
      " 1.14285714 0.94897959 0.95918367 0.97959184 1.         0.74489796\n",
      " 0.7755102  0.81632653 0.83673469] [1.         0.91984733 0.80152672 0.67938931 0.61450382 0.69847328\n",
      " 0.55725191 0.46564885 0.38167939 0.70229008 0.6221374  0.72900763\n",
      " 0.82061069 0.72137405 0.66030534 0.77099237 0.85496183 0.7519084\n",
      " 0.6870229  0.76717557 0.83587786]\n"
     ]
    },
    {
     "data": {
      "text/plain": [
       "Text(0.5, 1.0, 'Gestul pentru up')"
      ]
     },
     "execution_count": 11,
     "metadata": {},
     "output_type": "execute_result"
    },
    {
     "data": {
      "image/png": "[encoded data removed]",
      "text/plain": [
       "<Figure size 720x288 with 1 Axes>"
      ]
     },
     "metadata": {
      "needs_background": "light"
     },
     "output_type": "display_data"
    }
   ],
   "source": [
    "fortest = X_test.sample(1)\n",
    "toValidate = y_test[fortest.index]\n",
    "topredict = clf.predict(fortest)[0]\n",
    "print(topredict)\n",
    "print(toValidate)\n",
    "\n",
    "\n",
    "values = fortest.values[0]\n",
    "x_vals = values[0::2] / values[0]\n",
    "y_vals = values[1::2] / values[1]\n",
    "\n",
    "print(x_vals, y_vals)\n",
    "\n",
    "fig = plt.figure(figsize=(10,4))\n",
    "\n",
    "ax1 = fig.add_subplot(121)\n",
    "\n",
    "ax1.scatter(y_vals,x_vals)\n",
    "ax1.set_title(f\"Gestul pentru {gestureNameList[int(topredict)]}\")"
   ]
  },
  {
   "cell_type": "code",
   "execution_count": 21,
   "metadata": {},
   "outputs": [
    {
     "name": "stdout",
     "output_type": "stream",
     "text": [
      "1.0\n"
     ]
    }
   ],
   "source": [
    "\n",
    "yhat_test = clf.predict(X_test)\n",
    "\n",
    "acc = accuracy_score(y_test, yhat_test)\n",
    "\n",
    "print(acc)"
   ]
  },
  {
   "cell_type": "code",
   "execution_count": 22,
   "metadata": {},
   "outputs": [
    {
     "name": "stdout",
     "output_type": "stream",
     "text": [
      "       0x   0y        1x        1y        2x        2y        3x        3y  \\\n",
      "3741  1.0  1.0  1.265306  0.903448  1.377551  0.768966  1.326531  0.634483   \n",
      "\n",
      "            4x        4y  ...       16x       16y       17x       17y  \\\n",
      "3741  1.091837  0.558621  ...  0.928571  0.827586  0.642857  0.737931   \n",
      "\n",
      "           18x      18y       19x       19y       20x       20y  \n",
      "3741  0.612245  0.67931  0.693878  0.762069  0.744898  0.834483  \n",
      "\n",
      "[1 rows x 42 columns]\n"
     ]
    }
   ],
   "source": [
    "fortest = X_test.sample(1)\n",
    "print(fortest)"
   ]
  },
  {
   "cell_type": "markdown",
   "metadata": {},
   "source": [
    "# Neural Networks"
   ]
  },
  {
   "cell_type": "code",
   "execution_count": 47,
   "metadata": {},
   "outputs": [],
   "source": [
    "import pickle as pkl\n",
    "with open(\"OtherDataset.pickle\", \"rb\") as f:\n",
    "    object = pkl.load(f)\n",
    "    \n",
    "df = pd.DataFrame(object)\n",
    "df.to_csv(r'OtherDataset.csv')"
   ]
  },
  {
   "cell_type": "code",
   "execution_count": 48,
   "metadata": {},
   "outputs": [],
   "source": [
    "import tensorflow as tf\n",
    "import tensorflow.keras\n",
    "from tensorflow.keras.models import Sequential\n",
    "from tensorflow.keras.utils import to_categorical\n",
    "from tensorflow.keras.layers import Dense, Conv2D, MaxPooling2D, Dropout, Flatten\n"
   ]
  },
  {
   "cell_type": "code",
   "execution_count": 49,
   "metadata": {},
   "outputs": [],
   "source": [
    "dataset = 'OtherDataset.csv'\n",
    "model_save_path = 'keypoint_classifier/keypoint_classifier.hdf5'\n",
    "tflite_save_path = 'keypoint_classifier/keypoint_classifier.tflite'\n",
    "NUM_CLASSES = 10"
   ]
  },
  {
   "cell_type": "code",
   "execution_count": 50,
   "metadata": {},
   "outputs": [],
   "source": [
    "handDataFrame = pd.read_pickle(\"OtherDataset.pickle\")\n",
    "handDataFrame = handDF.dropna(axis='columns')\n",
    "train,test = train_test_split(handDF_cpy,test_size = 0.2)\n",
    "\n",
    "\n",
    "X_dataset = np.loadtxt(dataset, delimiter=',', dtype='float32', usecols=list(range(2, (21 * 2) + 2)))\n",
    "\n",
    "\n",
    "y_dataset = np.loadtxt(dataset, delimiter=',', dtype='int32', usecols=(1))\n",
    "\n",
    "\n"
   ]
  },
  {
   "cell_type": "code",
   "execution_count": 80,
   "metadata": {},
   "outputs": [],
   "source": [
    "X_trainNeural, X_testNeural, y_trainNeural, y_testNeural = train_test_split(X_dataset, y_dataset, train_size=0.8, random_state=42)"
   ]
  },
  {
   "cell_type": "code",
   "execution_count": null,
   "metadata": {},
   "outputs": [],
   "source": []
  },
  {
   "cell_type": "code",
   "execution_count": 81,
   "metadata": {},
   "outputs": [],
   "source": [
    "X_train = pd.DataFrame()\n",
    "X_test = pd.DataFrame()\n",
    "y_train = train[\"IdGesture\"]\n",
    "y_test = test[\"IdGesture\"]\n",
    "for i in range (21):\n",
    "    X_train[str(i)+\"x\"] = train[str(i)+\"x\"]\n",
    "    X_train[str(i)+\"y\"] = train[str(i)+\"y\"]\n",
    "    X_test[str(i)+\"x\"] = test[str(i)+\"x\"]\n",
    "    X_test[str(i)+\"y\"] = test[str(i)+\"y\"]"
   ]
  },
  {
   "cell_type": "code",
   "execution_count": 82,
   "metadata": {},
   "outputs": [],
   "source": [
    "model = tf.keras.models.Sequential([\n",
    "    tf.keras.layers.Input((21 * 2, )),\n",
    "    tf.keras.layers.Dropout(0.0),\n",
    "    tf.keras.layers.Dense(32, activation='relu'),\n",
    "    tf.keras.layers.Dropout(0.0),\n",
    "    tf.keras.layers.Dense(32, activation='relu'),\n",
    "    tf.keras.layers.Dropout(0.0),\n",
    "    tf.keras.layers.Dense(16, activation='relu'),\n",
    "    tf.keras.layers.Dense(NUM_CLASSES, activation='softmax')\n",
    "])"
   ]
  },
  {
   "cell_type": "code",
   "execution_count": 83,
   "metadata": {},
   "outputs": [],
   "source": [
    "\n",
    "# Model checkpoint callback\n",
    "cp_callback = tf.keras.callbacks.ModelCheckpoint(\n",
    "    model_save_path, verbose=1, save_weights_only=False, save_best_only=True)\n",
    "# Callback for early stopping\n",
    "es_callback = tf.keras.callbacks.EarlyStopping(patience=50, verbose=1)\n",
    "\n"
   ]
  },
  {
   "cell_type": "code",
   "execution_count": 84,
   "metadata": {},
   "outputs": [],
   "source": [
    "\n",
    "\n",
    "# Model compilation\n",
    "model.compile(\n",
    "    optimizer='adam',\n",
    "    loss='sparse_categorical_crossentropy',\n",
    "    metrics=['accuracy']\n",
    ")\n",
    "\n"
   ]
  },
  {
   "cell_type": "code",
   "execution_count": 85,
   "metadata": {},
   "outputs": [
    {
     "name": "stdout",
     "output_type": "stream",
     "text": [
      "Epoch 1/11\n",
      " 97/136 [====================>.........] - ETA: 0s - loss: 2.1498 - accuracy: 0.2608   \n",
      "Epoch 1: val_loss improved from inf to 1.61051, saving model to keypoint_classifier\\keypoint_classifier.hdf5\n",
      "136/136 [==============================] - 1s 2ms/step - loss: 2.0414 - accuracy: 0.3080 - val_loss: 1.6105 - val_accuracy: 0.5153\n",
      "Epoch 2/11\n",
      "124/136 [==========================>...] - ETA: 0s - loss: 1.1787 - accuracy: 0.5866\n",
      "Epoch 2: val_loss improved from 1.61051 to 0.72875, saving model to keypoint_classifier\\keypoint_classifier.hdf5\n",
      "136/136 [==============================] - 0s 2ms/step - loss: 1.1453 - accuracy: 0.5992 - val_loss: 0.7287 - val_accuracy: 0.7669\n",
      "Epoch 3/11\n",
      "103/136 [=====================>........] - ETA: 0s - loss: 0.5617 - accuracy: 0.9008\n",
      "Epoch 3: val_loss improved from 0.72875 to 0.36609, saving model to keypoint_classifier\\keypoint_classifier.hdf5\n",
      "136/136 [==============================] - 0s 1ms/step - loss: 0.5158 - accuracy: 0.9144 - val_loss: 0.3661 - val_accuracy: 0.9329\n",
      "Epoch 4/11\n",
      "102/136 [=====================>........] - ETA: 0s - loss: 0.2528 - accuracy: 0.9724\n",
      "Epoch 4: val_loss improved from 0.36609 to 0.16418, saving model to keypoint_classifier\\keypoint_classifier.hdf5\n",
      "136/136 [==============================] - 0s 1ms/step - loss: 0.2312 - accuracy: 0.9747 - val_loss: 0.1642 - val_accuracy: 0.9810\n",
      "Epoch 5/11\n",
      "136/136 [==============================] - ETA: 0s - loss: 0.1070 - accuracy: 0.9889\n",
      "Epoch 5: val_loss improved from 0.16418 to 0.08630, saving model to keypoint_classifier\\keypoint_classifier.hdf5\n",
      "136/136 [==============================] - 0s 2ms/step - loss: 0.1070 - accuracy: 0.9889 - val_loss: 0.0863 - val_accuracy: 0.9889\n",
      "Epoch 6/11\n",
      "101/136 [=====================>........] - ETA: 0s - loss: 0.0588 - accuracy: 0.9946\n",
      "Epoch 6: val_loss improved from 0.08630 to 0.04250, saving model to keypoint_classifier\\keypoint_classifier.hdf5\n",
      "136/136 [==============================] - 0s 1ms/step - loss: 0.0553 - accuracy: 0.9947 - val_loss: 0.0425 - val_accuracy: 0.9972\n",
      "Epoch 7/11\n",
      "101/136 [=====================>........] - ETA: 0s - loss: 0.0340 - accuracy: 0.9974\n",
      "Epoch 7: val_loss improved from 0.04250 to 0.02604, saving model to keypoint_classifier\\keypoint_classifier.hdf5\n",
      "136/136 [==============================] - 0s 1ms/step - loss: 0.0324 - accuracy: 0.9973 - val_loss: 0.0260 - val_accuracy: 0.9995\n",
      "Epoch 8/11\n",
      " 99/136 [====================>.........] - ETA: 0s - loss: 0.0229 - accuracy: 0.9979\n",
      "Epoch 8: val_loss improved from 0.02604 to 0.02036, saving model to keypoint_classifier\\keypoint_classifier.hdf5\n",
      "136/136 [==============================] - 0s 2ms/step - loss: 0.0217 - accuracy: 0.9981 - val_loss: 0.0204 - val_accuracy: 0.9977\n",
      "Epoch 9/11\n",
      " 95/136 [===================>..........] - ETA: 0s - loss: 0.0167 - accuracy: 0.9987\n",
      "Epoch 9: val_loss improved from 0.02036 to 0.01459, saving model to keypoint_classifier\\keypoint_classifier.hdf5\n",
      "136/136 [==============================] - 0s 1ms/step - loss: 0.0155 - accuracy: 0.9991 - val_loss: 0.0146 - val_accuracy: 1.0000\n",
      "Epoch 10/11\n",
      "103/136 [=====================>........] - ETA: 0s - loss: 0.0113 - accuracy: 0.9994\n",
      "Epoch 10: val_loss improved from 0.01459 to 0.01189, saving model to keypoint_classifier\\keypoint_classifier.hdf5\n",
      "136/136 [==============================] - 0s 1ms/step - loss: 0.0107 - accuracy: 0.9994 - val_loss: 0.0119 - val_accuracy: 1.0000\n",
      "Epoch 11/11\n",
      "101/136 [=====================>........] - ETA: 0s - loss: 0.0085 - accuracy: 0.9997\n",
      "Epoch 11: val_loss improved from 0.01189 to 0.00851, saving model to keypoint_classifier\\keypoint_classifier.hdf5\n",
      "136/136 [==============================] - 0s 1ms/step - loss: 0.0084 - accuracy: 0.9998 - val_loss: 0.0085 - val_accuracy: 0.9995\n"
     ]
    }
   ],
   "source": [
    "\n",
    "history = model.fit(\n",
    "    X_trainNeural,\n",
    "    y_trainNeural,\n",
    "    epochs=11,\n",
    "    batch_size=64,\n",
    "    validation_data=(X_testNeural, y_testNeural),\n",
    "    callbacks=[cp_callback, es_callback]\n",
    ")\n"
   ]
  },
  {
   "cell_type": "code",
   "execution_count": 86,
   "metadata": {},
   "outputs": [],
   "source": [
    "# summarize history for accuracy\n",
    "def plot_model_acuracy(history):\n",
    "    plt.plot(history.history['accuracy'])\n",
    "    plt.plot(history.history['val_accuracy'])\n",
    "    plt.title('model accuracy')\n",
    "    plt.ylabel('accuracy')\n",
    "    plt.xlabel('epoch')\n",
    "    plt.legend(['train', 'test'], loc='upper left')\n",
    "    plt.show()\n",
    "\n",
    "\n",
    "# summarize history for loss\n",
    "def plot_model_loss(history):\n",
    "    plt.plot(history.history['loss'])\n",
    "    plt.plot(history.history['val_loss'])\n",
    "    plt.title('model loss')\n",
    "    plt.ylabel('loss')\n",
    "    plt.xlabel('epoch')\n",
    "    plt.legend(['train', 'test'], loc='upper left')\n",
    "    plt.show()"
   ]
  },
  {
   "cell_type": "code",
   "execution_count": 87,
   "metadata": {},
   "outputs": [
    {
     "data": {
      "image/png": "[encoded data removed]",
      "text/plain": [
       "<Figure size 432x288 with 1 Axes>"
      ]
     },
     "metadata": {
      "needs_background": "light"
     },
     "output_type": "display_data"
    }
   ],
   "source": [
    "plot_model_acuracy(history)"
   ]
  },
  {
   "cell_type": "code",
   "execution_count": 88,
   "metadata": {},
   "outputs": [
    {
     "data": {
      "image/png": "[encoded data removed]",
      "text/plain": [
       "<Figure size 432x288 with 1 Axes>"
      ]
     },
     "metadata": {
      "needs_background": "light"
     },
     "output_type": "display_data"
    }
   ],
   "source": [
    "plot_model_loss(history)"
   ]
  },
  {
   "cell_type": "code",
   "execution_count": 89,
   "metadata": {},
   "outputs": [],
   "source": [
    "# Loading the saved model\n",
    "model = tf.keras.models.load_model(model_save_path)"
   ]
  },
  {
   "cell_type": "code",
   "execution_count": 90,
   "metadata": {},
   "outputs": [
    {
     "name": "stdout",
     "output_type": "stream",
     "text": [
      "34/34 [==============================] - 0s 818us/step - loss: 0.0085 - accuracy: 0.9995\n"
     ]
    }
   ],
   "source": [
    "val_loss, val_acc = model.evaluate(X_testNeural, y_testNeural, batch_size=64)"
   ]
  },
  {
   "cell_type": "code",
   "execution_count": 91,
   "metadata": {},
   "outputs": [
    {
     "data": {
      "image/png": "[encoded data removed]",
      "text/plain": [
       "<Figure size 504x432 with 2 Axes>"
      ]
     },
     "metadata": {
      "needs_background": "light"
     },
     "output_type": "display_data"
    },
    {
     "name": "stdout",
     "output_type": "stream",
     "text": [
      "Classification Report\n",
      "              precision    recall  f1-score   support\n",
      "\n",
      "           0       1.00      1.00      1.00       210\n",
      "           1       1.00      1.00      1.00       167\n",
      "           2       1.00      1.00      1.00       160\n",
      "           3       1.00      1.00      1.00       205\n",
      "           4       1.00      1.00      1.00       263\n",
      "           5       1.00      1.00      1.00       260\n",
      "           6       1.00      1.00      1.00       225\n",
      "           7       1.00      1.00      1.00       254\n",
      "           8       1.00      1.00      1.00       231\n",
      "           9       1.00      1.00      1.00       187\n",
      "\n",
      "    accuracy                           1.00      2162\n",
      "   macro avg       1.00      1.00      1.00      2162\n",
      "weighted avg       1.00      1.00      1.00      2162\n",
      "\n"
     ]
    }
   ],
   "source": [
    "\n",
    "import seaborn as sns\n",
    "import matplotlib.pyplot as plt\n",
    "from sklearn.metrics import confusion_matrix, classification_report\n",
    "\n",
    "def print_confusion_matrix(y_true, y_pred, report=True):\n",
    "    labels = sorted(list(set(y_true)))\n",
    "    cmx_data = confusion_matrix(y_true, y_pred, labels=labels)\n",
    "    \n",
    "    df_cmx = pd.DataFrame(cmx_data, index=labels, columns=labels)\n",
    " \n",
    "    fig, ax = plt.subplots(figsize=(7, 6))\n",
    "    sns.heatmap(df_cmx, annot=True, fmt='g' ,square=False)\n",
    "    ax.set_ylim(len(set(y_true)), 0)\n",
    "    plt.show()\n",
    "    \n",
    "    if report:\n",
    "        print('Classification Report')\n",
    "        print(classification_report(y_testNeural, y_pred))\n",
    "\n",
    "Y_pred = model.predict(X_testNeural)\n",
    "y_pred = np.argmax(Y_pred, axis=1)\n",
    "\n",
    "print_confusion_matrix(y_testNeural, y_pred)"
   ]
  },
  {
   "cell_type": "markdown",
   "metadata": {},
   "source": [
    "# Recognising with a classificator"
   ]
  },
  {
   "cell_type": "code",
   "execution_count": 92,
   "metadata": {},
   "outputs": [],
   "source": [
    "import mediapipe as mp\n",
    "import cv2 \n",
    "import math\n",
    "import os\n",
    "import pandas as pd\n",
    "import matplotlib.pyplot as plt\n",
    "import numpy as np\n",
    "\n",
    "handData = {'0x':[],'0y':[], '1x':[], '1y':[], '2x':[], '2y':[], '3x':[],'3y':[], '4x':[], '4y':[], '5x':[ ], '5y':[], '6x':[ ], '6y':[], '7x':[ ], '7y':[], '8x':[ ], '8y':[], '9x':[ ],\n",
    "                '9y':[], '10x':[ ], '10y':[], '11x':[ ], '11y':[], '12x':[ ], '12y':[], '13x':[ ], '13y':[], '14x':[ ], '14y':[], '15x':[ ], '15y':[], '16x':[ ], '16y':[], \n",
    "                '17x':[ ], '17y':[], '18x':[ ], '18y':[], '19x':[ ], '19y':[], '20x':[ ], '20y':[]}\n",
    "# handData = pd.DataFrame()\n"
   ]
  },
  {
   "cell_type": "code",
   "execution_count": 93,
   "metadata": {},
   "outputs": [],
   "source": [
    "def checkPointsRange(handLandmarks, w, h):\n",
    "    for landmarks in handLandmarks:\n",
    "        cx, cy = int ( landmarks.x * w ), int ( landmarks.y * h )\n",
    "        if cx not in range(0,w) or cy not in range(0,h):\n",
    "            return True\n",
    "    return False\n",
    "\n",
    "\n",
    "\n",
    "def setDataFramePoints(fingerLandmark, w, h):\n",
    "    x0_point = int(fingerLandmark[0].x * w)\n",
    "    y0_point = int(fingerLandmark[0].y * h)\n",
    "    for i in range(0,21):\n",
    "        cx = int(fingerLandmark[i].x * w) / x0_point\n",
    "        cy = int(fingerLandmark[i].y * h) / y0_point\n",
    "        handData[str(i) + 'x'] = cx\n",
    "        handData[str(i) + 'y'] = cy\n",
    "    dataFrame = X_test.sample(1)\n",
    "    dataFrame = pd.DataFrame([handData])\n",
    "    return dataFrame\n",
    "\n",
    "def show_whatGest_isThis(dF):\n",
    "    gesture = clf.predict(dF)[0]\n",
    "    return gestureNameList[int(gesture)]"
   ]
  },
  {
   "cell_type": "code",
   "execution_count": 96,
   "metadata": {},
   "outputs": [],
   "source": [
    "\n",
    "def RunProgram():\n",
    "    cap = cv2.VideoCapture(0)\n",
    "\n",
    "    mpHands = mp.solutions.hands\n",
    "    hands = mpHands.Hands( max_num_hands=1, min_detection_confidence=0.9, static_image_mode=False)\n",
    "    mpDraw = mp.solutions.drawing_utils\n",
    "\n",
    "    while True:\n",
    "        success, img = cap.read()\n",
    "        img = cv2.flip(img,1)\n",
    "        results = hands.process(img)\n",
    "        h, w, c = img.shape\n",
    "        cv2.rectangle(img, (20,20), (300,400), (255,0,0), 2)\n",
    "        if results.multi_hand_landmarks:\n",
    "            for handLms in results.multi_hand_landmarks:\n",
    "                for id, lm in enumerate(handLms.landmark):\n",
    "                    cx, cy = int(lm.x * w), int(lm.y * h)\n",
    "\n",
    "                landMarkVect = handLms.landmark\n",
    "\n",
    "                if(not checkPointsRange(landMarkVect,w,h)):\n",
    "                    dF = setDataFramePoints(landMarkVect, w, h)\n",
    "                    # print(dF)\n",
    "                    gestureName = show_whatGest_isThis(dF)\n",
    "\n",
    "                mpDraw.draw_landmarks(img, handLms, mpHands.HAND_CONNECTIONS)\n",
    "                cv2.putText(img, gestureName, (10, 70), cv2.FONT_ITALIC, 1, (0, 0, 255), 1)\n",
    "\n",
    "        cv2.imshow(\"Image\", img)\n",
    "        k = cv2.waitKey(1) & 0xFF\n",
    "        if k == 27:\n",
    "            cv2.destroyAllWindows()\n",
    "            break"
   ]
  },
  {
   "cell_type": "code",
   "execution_count": 97,
   "metadata": {},
   "outputs": [],
   "source": [
    "RunProgram()"
   ]
  }
 ],
 "metadata": {
  "interpreter": {
   "hash": "96d6fdddf3a320460093ab46ca048a27a0b73998106774fcafa1a2fc661e57f5"
  },
  "kernelspec": {
   "display_name": "Python 3.8.8 64-bit",
   "language": "python",
   "name": "python3"
  },
  "language_info": {
   "codemirror_mode": {
    "name": "ipython",
    "version": 3
   },
   "file_extension": ".py",
   "mimetype": "text/x-python",
   "name": "python",
   "nbconvert_exporter": "python",
   "pygments_lexer": "ipython3",
   "version": "3.8.8"
  },
  "orig_nbformat": 4
 },
 "nbformat": 4,
 "nbformat_minor": 2
}
