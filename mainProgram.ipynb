{
 "cells": [
  {
   "cell_type": "code",
   "execution_count": 1,
   "metadata": {},
   "outputs": [],
   "source": [
    "import recognitionTypes.hardCodedRecognition as hard_coded\n",
    "from recognitionTypes.classificatorsRecognition import ClassificatorRecognition as classificator\n",
    "from recognitionTypes.neuralNetworkRecognition import NeuralRecognition as neuralRecognition\n",
    "import cv2 as cv2\n",
    "import mediapipe as mp\n",
    "import pandas as pd\n",
    "\n",
    "from threading import *\n",
    "import time\n",
    "from queue import Queue\n",
    "\n",
    "gestureNameList = [\"forward\", \"backward\", \"left\", \"right\", \"up\", \"down\", \"rotate left\", \"rotate right\", \"stop\", \"land\"]\n",
    "gestureName = \"\"\n",
    "gestureID = 0\n",
    "\n",
    "event=Event()\n",
    "def countdown(i):\n",
    "    while i > 0:\n",
    "        print(i)\n",
    "        i-=1\n",
    "        time.sleep(1)"
   ]
  },
  {
   "cell_type": "code",
   "execution_count": 2,
   "metadata": {},
   "outputs": [],
   "source": [
    "neural = neuralRecognition()\n",
    "neural.load_saved_model()"
   ]
  },
  {
   "cell_type": "code",
   "execution_count": 3,
   "metadata": {},
   "outputs": [],
   "source": [
    "def gestureRecognThread(output_queue, landmark_queue, w, h, classifier):\n",
    "    global gestureName\n",
    "    while True:\n",
    "        event.wait()\n",
    "        while event.isSet():\n",
    "            landmarks = landmark_queue.get()\n",
    "            gestureName, gestureID = classifier.getGestureName(landmarks,w,h)\n",
    "            # print(f\"{gestureName}\")\n",
    "            output_queue.put(gestureID)\n",
    "\n",
    "def flyDrone(input_queue, img):\n",
    "    global gestureName\n",
    "    while True:\n",
    "        event.set()\n",
    "        gestureID = input_queue.get()\n",
    "        print(f\"Drone will do the following: {gestureName} with the id {gestureID}\")\n",
    "        time.sleep(2)\n",
    "        event.clear()\n"
   ]
  },
  {
   "cell_type": "code",
   "execution_count": 4,
   "metadata": {},
   "outputs": [],
   "source": [
    "def mainprogram(recognitionType):\n",
    "    cap = cv2.VideoCapture(0)\n",
    "\n",
    "    mpHands = mp.solutions.hands\n",
    "    hands = mpHands.Hands( max_num_hands=1, min_detection_confidence=0.9, static_image_mode=False)\n",
    "    mpDraw = mp.solutions.drawing_utils\n",
    "    isSet = 0\n",
    "    landmarkQueue = Queue()\n",
    "    communicationQueue = Queue()\n",
    "    while True:\n",
    "        success, img = cap.read()\n",
    "        imgRGB = cv2.cvtColor(img, cv2.COLOR_BGR2RGB)\n",
    "        img = cv2.flip(img,1)\n",
    "        results = hands.process(img)\n",
    "        h, w, c = img.shape\n",
    "        cv2.rectangle(img, (20,20), (300,400), (255,0,0), 2)\n",
    "\n",
    "        if results.multi_hand_landmarks:\n",
    "            for handLms in results.multi_hand_landmarks:\n",
    "                # for id, lm in enumerate(handLms.landmark):\n",
    "                #     cx, cy = int(lm.x * w), int(lm.y * h)\n",
    "\n",
    "                landMarkVect = handLms.landmark\n",
    "                hard_coded.checkPointsRange(landMarkVect, w, h)\n",
    "                landmarkQueue.put(landMarkVect)\n",
    "                if(isSet == 0):\n",
    "                    t1 = Thread(target=gestureRecognThread, args=(communicationQueue,landmarkQueue,w,h,recognitionType))\n",
    "                    t2 = Thread(target=flyDrone, args=(communicationQueue,img))\n",
    "                    t2.start()\n",
    "                    t1.start()\n",
    "                    isSet=1\n",
    "                \n",
    "                mpDraw.draw_landmarks(img, handLms, mpHands.HAND_CONNECTIONS)\n",
    "                cv2.putText(img, gestureName, (10, 70), cv2.FONT_ITALIC, 1, (0, 0, 255), 1)\n",
    "\n",
    "        cv2.imshow(\"Image\", img)\n",
    "        k = cv2.waitKey(1) & 0xFF\n",
    "        if k == 27:\n",
    "            cv2.destroyAllWindows()\n",
    "            break"
   ]
  },
  {
   "cell_type": "code",
   "execution_count": 5,
   "metadata": {},
   "outputs": [
    {
     "name": "stdout",
     "output_type": "stream",
     "text": [
      "Drone will do the following: stop with the id 8\n",
      "Drone will do the following: stop with the id 8\n",
      "Drone will do the following: forward with the id 8\n",
      "Drone will do the following: forward with the id 8\n",
      "Drone will do the following: forward with the id 8\n",
      "Drone will do the following: rotate right with the id 8\n",
      "Drone will do the following: up with the id 8\n",
      "Drone will do the following: rotate right with the id 8\n",
      "Drone will do the following: up with the id 8\n",
      "Drone will do the following: up with the id 8\n",
      "Drone will do the following: up with the id 8\n",
      "Drone will do the following: up with the id 8\n",
      "Drone will do the following: up with the id 8\n",
      "Drone will do the following: up with the id 8\n",
      "Drone will do the following: up with the id 8\n",
      "Drone will do the following: up with the id 8\n",
      "Drone will do the following: up with the id 8\n",
      "Drone will do the following: up with the id 8\n",
      "Drone will do the following: up with the id 8\n",
      "Drone will do the following: up with the id 8\n",
      "Drone will do the following: up with the id 8\n",
      "Drone will do the following: up with the id 8\n",
      "Drone will do the following: up with the id 8\n"
     ]
    }
   ],
   "source": [
    "mainprogram(neural)"
   ]
  }
 ],
 "metadata": {
  "interpreter": {
   "hash": "e06a64db7df9401d79dd434f37d5b59a0e3deddcd12f4103fa3d32c1a8bbec8f"
  },
  "kernelspec": {
   "display_name": "Python 3.8.8 64-bit",
   "language": "python",
   "name": "python3"
  },
  "language_info": {
   "codemirror_mode": {
    "name": "ipython",
    "version": 3
   },
   "file_extension": ".py",
   "mimetype": "text/x-python",
   "name": "python",
   "nbconvert_exporter": "python",
   "pygments_lexer": "ipython3",
   "version": "3.8.8"
  },
  "orig_nbformat": 4
 },
 "nbformat": 4,
 "nbformat_minor": 2
}
